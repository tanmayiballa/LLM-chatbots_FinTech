{
 "cells": [
  {
   "cell_type": "code",
   "execution_count": 1,
   "metadata": {},
   "outputs": [],
   "source": [
    "import os\n",
    "import re\n",
    "import openai\n",
    "import time\n",
    "import json\n",
    "import timeout_decorator\n",
    "from langchain.text_splitter import RecursiveCharacterTextSplitter\n",
    "import secret\n",
    "import datetime"
   ]
  },
  {
   "cell_type": "code",
   "execution_count": 3,
   "metadata": {},
   "outputs": [],
   "source": []
  },
  {
   "cell_type": "code",
   "execution_count": 2,
   "metadata": {},
   "outputs": [
    {
     "name": "stdout",
     "output_type": "stream",
     "text": [
      "/Users/tanmayiballa/Desktop/LLM-KG-1204/l715_23-1/data/10-Ks\n",
      "Bristol-Myers_Squibb_Company\n",
      "/Users/tanmayiballa/Desktop/LLM-KG-1204/l715_23-1/data/10-Ks/Bristol-Myers_Squibb_Company\n",
      "['2014', '2022', '2023', '2015', '2017', '2019', '2021', '2020', '2018', '2016']\n",
      "Aerojet_Rocketdyne_Holdings_Inc.\n",
      "/Users/tanmayiballa/Desktop/LLM-KG-1204/l715_23-1/data/10-Ks/Aerojet_Rocketdyne_Holdings_Inc.\n",
      "['2013', '2022', '2023', '2015', '2017', '2019', '2021', '2020', '2018', '2016']\n",
      "Rocket_Lab_USA_Inc\n",
      "/Users/tanmayiballa/Desktop/LLM-KG-1204/l715_23-1/data/10-Ks/Rocket_Lab_USA_Inc\n",
      "['2022', 'README.md']\n"
     ]
    }
   ],
   "source": [
    "cwd = os.getcwd()\n",
    "pwd = os.path.join(os.path.dirname(cwd), os.path.join('data','10-Ks'))\n",
    "\n",
    "root_directory = pwd\n",
    "target_file = 'Management.txt'\n",
    "model = \"gpt-4-1106-preview\"\n",
    "task = 'ABBR'\n",
    "\n",
    "gpt_result_file = 'Management_' + str(model) + '_' +str(task) + '_results.json'\n",
    "#gpt_cleaned_result_file = 'Management_' + str(model) + '_' +str(task) + '_results_cleaned.json'\n",
    "\n",
    "print(root_directory)\n",
    "for root, directories, files in os.walk(root_directory):\n",
    "    for directory in directories:\n",
    "        print(directory)\n",
    "        folder_path = os.path.join(root, directory)\n",
    "        print(folder_path)\n",
    "        files = os.listdir(folder_path)\n",
    "        print(files)\n",
    "        if target_file in files:\n",
    "            file_pth = os.path.join(folder_path, gpt_result_file)\n",
    "            print(file_pth)\n",
    "            with open(os.path.join(folder_path, target_file), 'r', encoding = 'utf-8') as rf:\n",
    "                input_ = rf.read()\n",
    "                input_ = input_.replace(\"\\n\",\"\")\n",
    "            result_file_  = open(file_pth)\n",
    "            run_evaluations(input_, json.load(result_file_))\n",
    "            break\n",
    "    break\n",
    "            "
   ]
  },
  {
   "cell_type": "code",
   "execution_count": 3,
   "metadata": {},
   "outputs": [
    {
     "data": {
      "text/plain": [
       "['2014',\n",
       " '2022',\n",
       " '2023',\n",
       " '2015',\n",
       " '2017',\n",
       " '2019',\n",
       " '2021',\n",
       " '2020',\n",
       " '2018',\n",
       " '2016']"
      ]
     },
     "execution_count": 3,
     "metadata": {},
     "output_type": "execute_result"
    }
   ],
   "source": [
    "dir = '/Users/tanmayiballa/Desktop/LLM-KG-1204/l715_23-1/data/10-Ks/Bristol-Myers_Squibb_Company'\n",
    "sub_folders = os.listdir(dir)\n",
    "sub_folders"
   ]
  },
  {
   "cell_type": "code",
   "execution_count": 456,
   "metadata": {},
   "outputs": [],
   "source": [
    "sub_folders = sub_folders[0]"
   ]
  },
  {
   "cell_type": "code",
   "execution_count": 4,
   "metadata": {},
   "outputs": [
    {
     "data": {
      "text/plain": [
       "'2014'"
      ]
     },
     "execution_count": 4,
     "metadata": {},
     "output_type": "execute_result"
    }
   ],
   "source": [
    "sub_folders[0]"
   ]
  },
  {
   "cell_type": "code",
   "execution_count": 5,
   "metadata": {},
   "outputs": [],
   "source": [
    "def validate_abbr(key, val):\n",
    "    #print(key, val)\n",
    "    char_rem = \"{}''\"\"[]#():-,._&*[0-9]\"\n",
    "    pattern = \"[\" + re.escape(char_rem) + \"]\"\n",
    "    key = re.sub(pattern, '', key)\n",
    "    val = re.sub(pattern, '', val)\n",
    "    key = key.lower()\n",
    "    val = val.lower()\n",
    "    words_val = val.split(' ')\n",
    "    if len(words_val)<len(key):\n",
    "        return False\n",
    "    words_val = [word[0] for word in words_val if len(word)>0]\n",
    "    #print(key, val, words_val)\n",
    "    if(len(words_val) < len(key)):\n",
    "        return False\n",
    "    if ''.join(words_val) == key:\n",
    "        return True\n",
    "    for i in range(1,len(key)):\n",
    "        try:\n",
    "            prev_val = key[i-1]\n",
    "            curr_val = key[i]\n",
    "            if(prev_val in words_val[:i]):\n",
    "                flag = True\n",
    "            if flag == False:\n",
    "                #print(key, val, i, prev_val, curr_val)\n",
    "                return False\n",
    "            continue\n",
    "        except:\n",
    "            return False\n",
    "    return True        \n",
    "        \n"
   ]
  },
  {
   "cell_type": "code",
   "execution_count": 6,
   "metadata": {},
   "outputs": [],
   "source": [
    "TP_rate = []\n",
    "TG_rate = []\n",
    "\n",
    "def run_evaluations(x, res):\n",
    "    if res == None or len(res)==0:\n",
    "        return \n",
    "    TP = []\n",
    "    TG = []\n",
    "    total = 0\n",
    "    keys_all = []\n",
    "    for dict in res:\n",
    "        key = dict['ABBR']\n",
    "        val = dict['DEF']\n",
    "        if key in keys_all:\n",
    "            continue\n",
    "        keys_all.append(key)\n",
    "        ## Exact match accuracy:\n",
    "        if key!=None and val!=None:\n",
    "            if len(key)<=len(val) and len(key)>1 and val.find(key)==-1 and x.find(key)!=-1 and x.find(val)!=-1:\n",
    "                if len(val.split(' '))>=len(key)+2:\n",
    "                    continue\n",
    "                if key in TP:\n",
    "                    continue\n",
    "                if(validate_abbr(key,val)):\n",
    "                    TP.append(key)\n",
    "        ## Power of LLMs:\n",
    "        if key!=None and val!=None:\n",
    "            if len(key)<=len(val) and len(key)>1 and val.find(key)==-1:\n",
    "                if key in TG:\n",
    "                    continue\n",
    "                if(validate_abbr(key,val)):\n",
    "                    TG.append(key)\n",
    "    print(keys_all)\n",
    "    print(TG)\n",
    "    print(TP)\n",
    "    TG_rate.append(len(TG)/len(keys_all))\n",
    "    TP_rate.append(len(TP)/len(keys_all))\n",
    "    print(TP_rate)\n",
    "    print(TG_rate)"
   ]
  },
  {
   "cell_type": "code",
   "execution_count": 415,
   "metadata": {},
   "outputs": [
    {
     "name": "stdout",
     "output_type": "stream",
     "text": [
      "2013\n",
      "2022\n",
      "2023\n",
      "2015\n",
      "2017\n",
      "2019\n",
      "2021\n",
      "2020\n",
      "2018\n",
      "2016\n"
     ]
    }
   ],
   "source": [
    "for folder in sub_folders:\n",
    "    print(folder)"
   ]
  },
  {
   "cell_type": "code",
   "execution_count": 7,
   "metadata": {},
   "outputs": [],
   "source": [
    "path = 'Management_gpt-4-1106-preview_ABBR_results.json'\n",
    "path = 'Management_GPT_3.5_ABR_results.json'\n",
    "TP_rate_all = []\n",
    "TG_rate_all = []\n"
   ]
  },
  {
   "cell_type": "code",
   "execution_count": 8,
   "metadata": {},
   "outputs": [
    {
     "name": "stdout",
     "output_type": "stream",
     "text": [
      "/Users/tanmayiballa/Desktop/LLM-KG-1204/l715_23-1/data/10-Ks/Bristol-Myers_Squibb_Company/2014\n",
      "['BMS', 'Abilify', 'Onglyza', 'Forxiga', 'Bydureon', 'Byetta', 'Symlin', 'Farxiga', 'UK', 'MCOs', 'FDA', 'EMA', 'MAA', 'HCV', 'NDA', 'PMDA', 'HIV', 'PD-1', 'T', 'NKT cells', 'NSCLC', 'ASCO', 'HOS', 'Yervoy', 'DASISION', 'AML', 'EHA', 'ORR', 'OS', 'PFS', 'QOL', 'BLA', 'PDUFA', 'EU', 'LD', 'EMDAC', 'SGLT2', 'EASD', 'NVAF', ' VTE', ' DVT', ' PE', ' PDUFA', ' ESC', ' ARISTOTLE', ' HIV', ' FDA', ' AMPLIFY', ' EMA', 'U.S.', '2013', '2012', 'Sanofi', 'Plavix', 'Avapro', 'Avalide', '2015', '2016', 'AstraZeneca', 'metreleptin', 'Atripla', '2011', 'Amylin']\n",
      "['UK', 'EMA', 'MAA', 'NDA', 'PMDA', 'HIV', 'PD-1', 'ASCO', 'HOS', 'DASISION', 'AML', 'EHA', 'ORR', 'OS', 'QOL', 'BLA', 'PDUFA', 'EU', 'U.S.']\n",
      "['UK', 'EMA', 'MAA', 'NDA', 'HIV', 'PD-1', 'OS', 'BLA', 'PDUFA', 'U.S.']\n",
      "[0.15873015873015872]\n",
      "[0.30158730158730157]\n",
      "/Users/tanmayiballa/Desktop/LLM-KG-1204/l715_23-1/data/10-Ks/Bristol-Myers_Squibb_Company/2022\n",
      "['Revlimid', 'U.S.', 'NVAF', 'DVT', 'PE', 'EU', 'UK', 'NSCLC', 'DVT/PE', 'Eliquis', 'FDA', 'PD-1', 'T', 'NKT', 'RCC', 'HCC', 'MPM', 'CRC', 'RA', 'PsA', 'JIA', 'CML', 'Gleevec', 'Yervoy', 'GTN', 'IPRD']\n",
      "['U.S.', 'DVT', 'PE', 'EU', 'UK', 'PD-1', 'NKT', 'RCC', 'MPM', 'RA', 'JIA', 'CML']\n",
      "['U.S.', 'MPM']\n",
      "[0.15873015873015872, 0.07692307692307693]\n",
      "[0.30158730158730157, 0.46153846153846156]\n",
      "/Users/tanmayiballa/Desktop/LLM-KG-1204/l715_23-1/data/10-Ks/Bristol-Myers_Squibb_Company/2023\n",
      "['SEC', 'Exhibit 10', 'SAA', 'UN', 'S&P', 'Moody’s']\n",
      "['SEC', 'SAA', 'UN', 'S&P']\n",
      "[]\n",
      "[0.15873015873015872, 0.07692307692307693, 0.0]\n",
      "[0.30158730158730157, 0.46153846153846156, 0.6666666666666666]\n",
      "/Users/tanmayiballa/Desktop/LLM-KG-1204/l715_23-1/data/10-Ks/Bristol-Myers_Squibb_Company/2015\n",
      "['BMS', 'EU', 'PD-1', 'DVT', 'PE', 'Pfizer', 'EMA', 'MAA', 'CHMP', 'CheckMate-066', 'DMC', 'Opdivo', 'Yervoy', 'CheckMate-069', 'CheckMate-067', 'NSCLC', 'CheckMate-063', 'IRC', 'RECIST', 'CheckMate-012', 'SAEs', 'FDA', 'HL', 'DCV', 'ASV', 'BCV', 'RA', 'CCP', 'MTX', 'NVAF', 'VTE', 'EC', 'ARISTOTLE', 'AVERT', 'AMPLIFY-EXT', 'EMANATE', 'ANNEXA', 'sNDA', 'U.S.', 'Japan', 'Plavix', 'Avapro', 'Avalide', 'Amylin', 'N/A', 'Sprycel', 'Abilify', 'Orencia', 'Eliquis', 'Diabetes Alliance', 'HIV', 'AIDS', 'NS5A', 'NS3', 'HCV', 'HBV', 'RNA', 'DNA', 'EGFR', 'TKI', 'CML', 'ABIL', 'Otsuka', '2014', '2019', 'CSI', 'AstraZeneca', '2018', '$454 million', '2013', '2012', '$358 million', 'Dollars in Millions', 'December 31, 2014', 'December 31, 2013', 'Net', 'Inventories', 'Accounts', 'A2', 'Prime-1', 'F2', 'December 2014', '($2,437)', '($1,068)', '($4,333)', 'Operating Activities', 'ASC', 'IPRD']\n",
      "['EU', 'DVT', 'PE', 'EMA', 'MAA', 'DMC', 'IRC', 'RA', 'EC', 'ARISTOTLE', 'AVERT', 'EMANATE', 'sNDA', 'U.S.', 'HIV', 'NS3', 'HCV', 'HBV', 'EGFR', 'TKI', 'CML', 'CSI', 'IPRD']\n",
      "['EU', 'DVT', 'PE', 'EMA', 'MAA', 'DMC', 'IRC', 'RA', 'EC', 'AVERT', 'sNDA', 'U.S.']\n",
      "[0.15873015873015872, 0.07692307692307693, 0.0, 0.13636363636363635]\n",
      "[0.30158730158730157, 0.46153846153846156, 0.6666666666666666, 0.26136363636363635]\n",
      "/Users/tanmayiballa/Desktop/LLM-KG-1204/l715_23-1/data/10-Ks/Bristol-Myers_Squibb_Company/2017\n",
      "['IO', 'EC', 'FDA', 'RA', 'HCV', 'JMHLW', 'SEC', 'FCPA', 'U.S.', 'Dec.', '2016', 'Non-U.S.', 'Item', 'Greece', 'Portugal', 'Italy', 'Spain']\n",
      "['IO', 'EC', 'FDA', 'RA', 'HCV', 'JMHLW', 'SEC', 'FCPA', 'U.S.']\n",
      "['IO', 'U.S.']\n",
      "[0.15873015873015872, 0.07692307692307693, 0.0, 0.13636363636363635, 0.11764705882352941]\n",
      "[0.30158730158730157, 0.46153846153846156, 0.6666666666666666, 0.26136363636363635, 0.5294117647058824]\n",
      "/Users/tanmayiballa/Desktop/LLM-KG-1204/l715_23-1/data/10-Ks/Bristol-Myers_Squibb_Company/2019\n",
      "['U.S.', 'Opdivo', 'Eliquis', 'Daklinza', 'HIV', 'GTN', 'Medicaid', 'Medicare', 'Dollars in Millions', 'Charge-Backs', 'Cash Discounts', 'Medicaid Rebates', 'Medicare Rebates', 'Other Rebates', 'Returns', 'Discounts', 'Adjustments', 'Balance at January 1, 2017', 'Balance at December 31, 2017', 'Balance at December 31, 2018', 'Gross Product Sales', 'Net Product Sales', 'GTN Adjustments', 'Charge-backs', 'Total GTN Adjustments', 'Percentage', 'Non-U.S.', 'Orencia', 'Sprycel', 'Yervoy', 'Empliciti', 'Baraclude', 'Reyataz Franchise', 'Sustiva Franchise', 'IRS', 'OTC', 'IFM', 'NKT', 'CXR', 'HZ', 'ND', 'UN', 'OPD', 'YV', 'EMP', 'BIIB', 'ROG', 'USD', 'RND', 'MNC', 'DEBT', 'SHR', 'REP', 'NAV', 'ACQ', 'OPRX', 'PXR', 'TX', 'AGM', 'Squibb Retirement Income Plan', 'U.S. Plans', 'December 31, 2018', 'IPRD', 'LOE', 'R&D', 'UPS A', 'BMS', 'U.S. Federal', 'Section 382', 'Phase III', 'EC', 'FDA', 'NSCLC', 'PD-L1', 'IO', 'MPM', 'PIVOT', 'RCC', 'sBLA', 'SEC', 'Item 7A', 'EUR', 'JPY', 'SAA']\n",
      "['U.S.', 'HIV', 'GTN', 'IRS', 'IFM', 'CXR', 'HZ', 'ND', 'UN', 'ROG', 'USD', 'RND', 'NAV', 'AGM', 'IPRD', 'LOE', 'R&D', 'EC', 'FDA', 'MPM', 'RCC', 'sBLA', 'SEC', 'SAA']\n",
      "['U.S.', 'IRS']\n",
      "[0.15873015873015872, 0.07692307692307693, 0.0, 0.13636363636363635, 0.11764705882352941, 0.023809523809523808]\n",
      "[0.30158730158730157, 0.46153846153846156, 0.6666666666666666, 0.26136363636363635, 0.5294117647058824, 0.2857142857142857]\n",
      "/Users/tanmayiballa/Desktop/LLM-KG-1204/l715_23-1/data/10-Ks/Bristol-Myers_Squibb_Company/2021\n",
      "['Moody’s Investors Service', 'Standard & Poor’s', 'U.S.', 'Opdivo', 'Yervoy', 'Empliciti', 'Otezla', 'UPSA', 'Celgene', 'MyoKardia', 'NSCLC', 'RCC', 'FDA', 'CheckMate-816', 'TASUKI-52', 'Ono', 'PDUFA', 'EMA', 'CheckMate-577', 'CheckMate -649', 'EC', 'CRC', 'ESCC', 'PD-L1', 'NMPA', 'MHLW', 'MSI-H', 'HSI-H', 'DMC', 'sNDA', 'UC', 'MAA', 'RMS', 'RRMS', 'AZA', 'AML', 'DLBCL', 'CAR T cell', 'BLA']\n",
      "['U.S.', 'RCC', 'FDA', 'PDUFA', 'EMA', 'EC', 'ESCC', 'NMPA', 'MHLW', 'DMC', 'sNDA', 'UC', 'MAA', 'RMS', 'AML', 'BLA']\n",
      "['U.S.', 'RMS']\n",
      "[0.15873015873015872, 0.07692307692307693, 0.0, 0.13636363636363635, 0.11764705882352941, 0.023809523809523808, 0.05128205128205128]\n",
      "[0.30158730158730157, 0.46153846153846156, 0.6666666666666666, 0.26136363636363635, 0.5294117647058824, 0.2857142857142857, 0.41025641025641024]\n",
      "/Users/tanmayiballa/Desktop/LLM-KG-1204/l715_23-1/data/10-Ks/Bristol-Myers_Squibb_Company/2020\n",
      "['Otezla*', 'EPS', 'GAAP', 'Non-GAAP', 'BMS', 'CAGR', 'HCC', 'FDA', 'sBLA', 'PDUFA', 'IO', 'mCRPC', 'CheckMate-040', 'ORR', 'RECIST', 'Melanoma', 'CheckMate-915', 'RFS', 'PD-L1', 'DMC', 'CheckMate-067', 'CA209-004', 'QoL', 'NSCLC', 'CHMP', 'EGFR', 'ALK', 'RCC', 'SCCHN', 'GvHD', 'JIA', 'RA', 'ALL', 'U.S.', 'SAA', 'UN', 'EUR', 'JPY', 'USD', 'Item']\n",
      "['EPS', 'GAAP', 'CAGR', 'FDA', 'sBLA', 'PDUFA', 'ORR', 'RECIST', 'DMC', 'QoL', 'EGFR', 'ALK', 'RCC', 'SCCHN', 'JIA', 'RA', 'ALL', 'U.S.', 'SAA', 'UN']\n",
      "['EPS', 'PDUFA', 'QoL', 'JIA', 'U.S.']\n",
      "[0.15873015873015872, 0.07692307692307693, 0.0, 0.13636363636363635, 0.11764705882352941, 0.023809523809523808, 0.05128205128205128, 0.125]\n",
      "[0.30158730158730157, 0.46153846153846156, 0.6666666666666666, 0.26136363636363635, 0.5294117647058824, 0.2857142857142857, 0.41025641025641024, 0.5]\n",
      "/Users/tanmayiballa/Desktop/LLM-KG-1204/l715_23-1/data/10-Ks/Bristol-Myers_Squibb_Company/2018\n",
      "['GTN', 'U.S.', 'N/A', 'Opdivo', 'PD-1', 'T', 'NKT', 'VTE', 'RA', 'PsA', 'CML', 'Gleevec', 'Yervoy', 'EU', 'Japan', 'Baraclude', 'Sustiva', 'HIV', 'Atripla', 'BMS', 'Reyataz', 'Evotaz', 'Tybost', 'Daklinza', 'Sunvepra', 'Abilify', 'Erbitux', 'GAAP', 'S.A.A.', 'US', 'DOD', 'VA', 'HHS', 'FDA', 'CMS', 'LOE', 'NSCLC', 'BLA', 'CFDA', 'RCC', 'CRC', 'dMMR', 'MSI-H', 'MPM', 'IFCT-1501 MAPS-2', 'PD-L1', 'EMA', 'SCLC', 'HCC', 'SAA']\n",
      "['U.S.', 'PD-1', 'NKT', 'RA', 'CML', 'EU', 'HIV', 'GAAP', 'S.A.A.', 'US', 'DOD', 'CMS', 'LOE', 'BLA', 'CFDA', 'RCC', 'MPM', 'IFCT-1501 MAPS-2', 'EMA', 'SCLC', 'SAA']\n",
      "['U.S.', 'CFDA']\n",
      "[0.15873015873015872, 0.07692307692307693, 0.0, 0.13636363636363635, 0.11764705882352941, 0.023809523809523808, 0.05128205128205128, 0.125, 0.04]\n",
      "[0.30158730158730157, 0.46153846153846156, 0.6666666666666666, 0.26136363636363635, 0.5294117647058824, 0.2857142857142857, 0.41025641025641024, 0.5, 0.42]\n",
      "/Users/tanmayiballa/Desktop/LLM-KG-1204/l715_23-1/data/10-Ks/Bristol-Myers_Squibb_Company/2016\n",
      "['U.S.', 'Non-U.S.', 'N/A', 'Erbitux', 'Opdivo', 'Sprycel', 'Yervoy', 'Abilify', 'Orencia', 'Eliquis', 'Mature Products and All Other', 'IRS', 'ACA', 'BMS', 'IPRD', 'EU', 'Italy', 'Portugal', 'Spain', 'Japan', 'EMA', 'EC', 'FDA', 'PD-1', 'T', 'NKT', 'DMC', 'BRAF', 'CheckMate-067', 'CheckMate-069', 'CA209-004', 'PFS', 'ORR', 'NSCLC', 'DCV', 'ASV', 'BCV', 'SVR', 'NICE', 'HCV', 'ALLY', 'Gilead', 'UK', 'DNA', 'HBV', 'HIV', 'RA', 'NVAF', 'VTE', 'AMC', 'Pfizer', 'EMEA', 'MDARD', 'AUGUSTUS', 'PCI', 'SEC']\n",
      "['U.S.', 'IRS', 'ACA', 'IPRD', 'EU', 'EMA', 'EC', 'FDA', 'NKT', 'DMC', 'ORR', 'SVR', 'HCV', 'UK', 'HBV', 'HIV', 'RA', 'PCI', 'SEC']\n",
      "['U.S.', 'IRS', 'EU', 'EMA', 'EC', 'FDA', 'DMC', 'ORR', 'SVR', 'SEC']\n",
      "[0.15873015873015872, 0.07692307692307693, 0.0, 0.13636363636363635, 0.11764705882352941, 0.023809523809523808, 0.05128205128205128, 0.125, 0.04, 0.17857142857142858]\n",
      "[0.30158730158730157, 0.46153846153846156, 0.6666666666666666, 0.26136363636363635, 0.5294117647058824, 0.2857142857142857, 0.41025641025641024, 0.5, 0.42, 0.3392857142857143]\n"
     ]
    }
   ],
   "source": [
    "for folder in sub_folders:\n",
    "    path = os.path.join(dir, folder)\n",
    "    print(path)\n",
    "    input_file = os.path.join(path, 'Management.txt')\n",
    "    res_file = os.path.join(path, 'Management_GPT_3.5_ABR_results.json')\n",
    "    with open(input_file, 'r', encoding = 'utf-8') as rf:\n",
    "        input_ = rf.read()\n",
    "        input_ = input_.replace(\"\\n\",\"\")\n",
    "    result_file_  = open(res_file)\n",
    "    run_evaluations(input_, json.load(result_file_))\n",
    "TP_rate_all.append(TP_rate)\n",
    "TG_rate_all.append(TG_rate)"
   ]
  },
  {
   "cell_type": "code",
   "execution_count": 9,
   "metadata": {},
   "outputs": [
    {
     "data": {
      "text/plain": [
       "0.09083269345034051"
      ]
     },
     "execution_count": 9,
     "metadata": {},
     "output_type": "execute_result"
    }
   ],
   "source": [
    "## TP rate:\n",
    "\n",
    "import numpy as np\n",
    "np.mean(np.array(TP_rate))"
   ]
  },
  {
   "cell_type": "code",
   "execution_count": 488,
   "metadata": {},
   "outputs": [
    {
     "data": {
      "text/plain": [
       "0.6482809827036113"
      ]
     },
     "execution_count": 488,
     "metadata": {},
     "output_type": "execute_result"
    }
   ],
   "source": [
    "np.mean(np.array(TG_rate))"
   ]
  },
  {
   "cell_type": "code",
   "execution_count": 508,
   "metadata": {},
   "outputs": [
    {
     "data": {
      "text/plain": [
       "[0.4888888888888889,\n",
       " 0.06557377049180328,\n",
       " 0.19402985074626866,\n",
       " 0.41818181818181815,\n",
       " 0.08,\n",
       " 0.0847457627118644,\n",
       " 0.1643835616438356,\n",
       " 0.1794871794871795,\n",
       " 0.08108108108108109,\n",
       " 0.34328358208955223]"
      ]
     },
     "execution_count": 508,
     "metadata": {},
     "output_type": "execute_result"
    }
   ],
   "source": [
    "TP_rate"
   ]
  },
  {
   "cell_type": "code",
   "execution_count": 267,
   "metadata": {},
   "outputs": [
    {
     "data": {
      "text/plain": [
       "48"
      ]
     },
     "execution_count": 267,
     "metadata": {},
     "output_type": "execute_result"
    }
   ],
   "source": [
    "len(TG)"
   ]
  },
  {
   "cell_type": "code",
   "execution_count": 496,
   "metadata": {},
   "outputs": [
    {
     "data": {
      "text/plain": [
       "10"
      ]
     },
     "execution_count": 496,
     "metadata": {},
     "output_type": "execute_result"
    }
   ],
   "source": [
    "len(TP_rate_all)"
   ]
  },
  {
   "cell_type": "code",
   "execution_count": 511,
   "metadata": {},
   "outputs": [
    {
     "data": {
      "text/plain": [
       "([0.1,\n",
       "  0.2631578947368421,\n",
       "  0.2222222222222222,\n",
       "  0.1111111111111111,\n",
       "  0.15625,\n",
       "  0.14285714285714285,\n",
       "  0.14814814814814814,\n",
       "  0.08695652173913043,\n",
       "  0.16,\n",
       "  0.14634146341463414],\n",
       " [0.7333333333333333,\n",
       "  0.7368421052631579,\n",
       "  0.7222222222222222,\n",
       "  0.8333333333333334,\n",
       "  0.78125,\n",
       "  0.8095238095238095,\n",
       "  0.6296296296296297,\n",
       "  0.782608695652174,\n",
       "  0.72,\n",
       "  0.7073170731707317])"
      ]
     },
     "execution_count": 511,
     "metadata": {},
     "output_type": "execute_result"
    }
   ],
   "source": [
    "TP_rate_all[0], TG_rate_all[0]"
   ]
  },
  {
   "cell_type": "code",
   "execution_count": 10,
   "metadata": {},
   "outputs": [
    {
     "ename": "IndexError",
     "evalue": "list index out of range",
     "output_type": "error",
     "traceback": [
      "\u001b[0;31m---------------------------------------------------------------------------\u001b[0m",
      "\u001b[0;31mIndexError\u001b[0m                                Traceback (most recent call last)",
      "\u001b[1;32m/Users/tanmayiballa/Desktop/LLM-KG-1204/l715_23-1/code/LLM_ABBR_evaluation.ipynb Cell 18\u001b[0m line \u001b[0;36m6\n\u001b[1;32m      <a href='vscode-notebook-cell:/Users/tanmayiballa/Desktop/LLM-KG-1204/l715_23-1/code/LLM_ABBR_evaluation.ipynb#X23sZmlsZQ%3D%3D?line=3'>4</a>\u001b[0m years \u001b[39m=\u001b[39m \u001b[39mlist\u001b[39m(\u001b[39mrange\u001b[39m(\u001b[39m2013\u001b[39m, \u001b[39m2023\u001b[39m))\n\u001b[1;32m      <a href='vscode-notebook-cell:/Users/tanmayiballa/Desktop/LLM-KG-1204/l715_23-1/code/LLM_ABBR_evaluation.ipynb#X23sZmlsZQ%3D%3D?line=4'>5</a>\u001b[0m company1_means \u001b[39m=\u001b[39m TG_rate_all[\u001b[39m0\u001b[39m]\n\u001b[0;32m----> <a href='vscode-notebook-cell:/Users/tanmayiballa/Desktop/LLM-KG-1204/l715_23-1/code/LLM_ABBR_evaluation.ipynb#X23sZmlsZQ%3D%3D?line=5'>6</a>\u001b[0m company2_means \u001b[39m=\u001b[39m TG_rate_all[\u001b[39m1\u001b[39;49m]\n\u001b[1;32m      <a href='vscode-notebook-cell:/Users/tanmayiballa/Desktop/LLM-KG-1204/l715_23-1/code/LLM_ABBR_evaluation.ipynb#X23sZmlsZQ%3D%3D?line=6'>7</a>\u001b[0m company1_years\u001b[39m=\u001b[39m [\u001b[39m2013\u001b[39m,\u001b[39m2015\u001b[39m,\u001b[39m2016\u001b[39m,\u001b[39m2017\u001b[39m,\u001b[39m2018\u001b[39m,\u001b[39m2019\u001b[39m,\u001b[39m2020\u001b[39m,\u001b[39m2021\u001b[39m,\u001b[39m2022\u001b[39m,\u001b[39m2023\u001b[39m]\n\u001b[1;32m      <a href='vscode-notebook-cell:/Users/tanmayiballa/Desktop/LLM-KG-1204/l715_23-1/code/LLM_ABBR_evaluation.ipynb#X23sZmlsZQ%3D%3D?line=7'>8</a>\u001b[0m company2_years \u001b[39m=\u001b[39m [\u001b[39m2014\u001b[39m,\u001b[39m2015\u001b[39m,\u001b[39m2016\u001b[39m,\u001b[39m2017\u001b[39m,\u001b[39m2018\u001b[39m,\u001b[39m2019\u001b[39m,\u001b[39m2020\u001b[39m,\u001b[39m2021\u001b[39m,\u001b[39m2022\u001b[39m,\u001b[39m2023\u001b[39m]\n",
      "\u001b[0;31mIndexError\u001b[0m: list index out of range"
     ]
    }
   ],
   "source": [
    "import matplotlib.pyplot as plt\n",
    "\n",
    "# Example data (replace this with your actual data)\n",
    "years = list(range(2013, 2023))\n",
    "company1_means = TP_rate_all[0]\n",
    "company2_means = TP_rate_all[1]\n",
    "company1_years= [2013,2015,2016,2017,2018,2019,2020,2021,2022,2023]\n",
    "company2_years = [2014,2015,2016,2017,2018,2019,2020,2021,2022,2023]\n",
    "\n",
    "# Plotting the trend\n",
    "plt.plot(company1_years, company1_means, label='Aerojet_Rocketdyne_Holdings_Inc.', marker='o')\n",
    "plt.plot(company2_years, company2_means, label='Bristol-Myers_Squibb_Company', marker='o')\n",
    "\n",
    "# Adding labels and title\n",
    "plt.xlabel('Years')\n",
    "plt.ylabel('True Positive Mean')\n",
    "plt.legend()\n",
    "\n",
    "# Display the plot\n",
    "plt.show()\n"
   ]
  },
  {
   "cell_type": "code",
   "execution_count": 520,
   "metadata": {},
   "outputs": [
    {
     "data": {
      "text/plain": [
       "[0.7333333333333333,\n",
       " 0.7368421052631579,\n",
       " 0.7222222222222222,\n",
       " 0.8333333333333334,\n",
       " 0.78125,\n",
       " 0.8095238095238095,\n",
       " 0.6296296296296297,\n",
       " 0.782608695652174,\n",
       " 0.72,\n",
       " 0.7073170731707317]"
      ]
     },
     "execution_count": 520,
     "metadata": {},
     "output_type": "execute_result"
    }
   ],
   "source": [
    "TG_rate_all[0]"
   ]
  },
  {
   "cell_type": "code",
   "execution_count": 522,
   "metadata": {},
   "outputs": [
    {
     "data": {
      "text/plain": [
       "[0.6666666666666666,\n",
       " 0.639344262295082,\n",
       " 0.7164179104477612,\n",
       " 0.6181818181818182,\n",
       " 0.74,\n",
       " 0.6271186440677966,\n",
       " 0.6986301369863014,\n",
       " 0.6282051282051282,\n",
       " 0.581081081081081,\n",
       " 0.5671641791044776,\n",
       " 0.30158730158730157,\n",
       " 0.46153846153846156,\n",
       " 0.6666666666666666,\n",
       " 0.26136363636363635,\n",
       " 0.5294117647058824,\n",
       " 0.2857142857142857,\n",
       " 0.41025641025641024,\n",
       " 0.5,\n",
       " 0.42,\n",
       " 0.3392857142857143]"
      ]
     },
     "execution_count": 522,
     "metadata": {},
     "output_type": "execute_result"
    }
   ],
   "source": [
    "TG_rate_all[2]"
   ]
  },
  {
   "cell_type": "code",
   "execution_count": 11,
   "metadata": {},
   "outputs": [
    {
     "name": "stdout",
     "output_type": "stream",
     "text": [
      "/Users/tanmayiballa/Desktop/LLM-KG-1204/l715_23-1/code\n"
     ]
    }
   ],
   "source": [
    "!pwd"
   ]
  },
  {
   "cell_type": "code",
   "execution_count": 523,
   "metadata": {},
   "outputs": [
    {
     "data": {
      "image/png": "[encoded data removed]",
      "text/plain": [
       "<Figure size 640x480 with 1 Axes>"
      ]
     },
     "metadata": {},
     "output_type": "display_data"
    }
   ],
   "source": [
    "import matplotlib.pyplot as plt\n",
    "\n",
    "# Example data (replace this with your actual data)\n",
    "years = list(range(2013, 2023))\n",
    "company1_means = TG_rate_all[0]\n",
    "company2_means = TG_rate_all[1]\n",
    "#company1_years= [2013,2015,2016,2017,2018,2019,2020,2021,2022,2023]\n",
    "#company2_years = [2014,2015,2016,2017,2018,2019,2020,2021,2022,2023]\n",
    "\n",
    "# Plotting the trend\n",
    "plt.plot(company1_means, label='Aerojet_Rocketdyne_Holdings_Inc.', marker='o')\n",
    "plt.plot(company2_means, label='Bristol-Myers_Squibb_Company', marker='o')\n",
    "\n",
    "# Adding labels and title\n",
    "plt.xlabel('Years')\n",
    "plt.ylabel('True Guess Mean')\n",
    "plt.legend()\n",
    "\n",
    "# Display the plot\n",
    "plt.show()\n"
   ]
  },
  {
   "cell_type": "code",
   "execution_count": null,
   "metadata": {},
   "outputs": [],
   "source": []
  }
 ],
 "metadata": {
  "kernelspec": {
   "display_name": "Python 3",
   "language": "python",
   "name": "python3"
  },
  "language_info": {
   "codemirror_mode": {
    "name": "ipython",
    "version": 3
   },
   "file_extension": ".py",
   "mimetype": "text/x-python",
   "name": "python",
   "nbconvert_exporter": "python",
   "pygments_lexer": "ipython3",
   "version": "3.9.7"
  }
 },
 "nbformat": 4,
 "nbformat_minor": 2
}
